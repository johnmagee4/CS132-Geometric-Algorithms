{
 "cells": [
  {
   "cell_type": "markdown",
   "metadata": {
    "internals": {
     "slide_type": "subslide"
    },
    "slideshow": {
     "slide_type": "slide"
    }
   },
   "source": [
    "# Welcome to CS 132"
   ]
  },
  {
   "cell_type": "code",
   "execution_count": 1,
   "metadata": {
    "collapsed": false,
    "internals": {},
    "slideshow": {
     "slide_type": "skip"
    }
   },
   "outputs": [
    {
     "name": "stdout",
     "output_type": "stream",
     "text": [
      "\n"
     ]
    }
   ],
   "source": [
    "%matplotlib inline\n",
    "\n",
    "# import libraries\n",
    "import numpy as np\n",
    "import matplotlib as mp\n",
    "import pandas as pd\n",
    "import matplotlib.pyplot as plt\n",
    "import laUtilities as ut\n",
    "import slideUtilities as sl\n",
    "from IPython.display import Image\n",
    "from IPython.display import display_html\n",
    "from IPython.display import display\n",
    "reload(ut)\n",
    "print ''"
   ]
  },
  {
   "cell_type": "code",
   "execution_count": 2,
   "metadata": {
    "collapsed": false,
    "internals": {},
    "slideshow": {
     "slide_type": "skip"
    }
   },
   "outputs": [
    {
     "data": {
      "text/html": [
       "<style>\n",
       " .container.slides .celltoolbar, .container.slides .hide-in-slideshow {\n",
       "    display: None ! important;\n",
       "}\n",
       "</style>"
      ],
      "text/plain": [
       "<IPython.core.display.HTML object>"
      ]
     },
     "metadata": {},
     "output_type": "display_data"
    }
   ],
   "source": [
    "%%html\n",
    "<style>\n",
    " .container.slides .celltoolbar, .container.slides .hide-in-slideshow {\n",
    "    display: None ! important;\n",
    "}\n",
    "</style>"
   ]
  },
  {
   "cell_type": "markdown",
   "metadata": {
    "internals": {},
    "slideshow": {
     "slide_type": "-"
    }
   },
   "source": [
    "Geometric Algorithms: \"Linear Algebra from an Algorithmic Standpoint\""
   ]
  },
  {
   "cell_type": "markdown",
   "metadata": {
    "internals": {
     "frag_number": 4
    },
    "slideshow": {
     "slide_type": "fragment"
    }
   },
   "source": [
    "Who I am:\n",
    "* Professor John Magee\n",
    "* Email: mageejo@bu.edu\n",
    "* Office: PSY 228B\n",
    "* Office Hours: I'll hang out after every class!\n",
    "    "
   ]
  },
  {
   "cell_type": "markdown",
   "metadata": {
    "internals": {
     "frag_helper": "fragment_end",
     "frag_number": 5,
     "slide_helper": "subslide_end"
    },
    "slide_helper": "slide_end",
    "slideshow": {
     "slide_type": "fragment"
    }
   },
   "source": [
    "\n",
    "Teaching Fellow:\n",
    "* Mr. Tomislav Petrovic\n",
    "* Email: tomislav@bu.edu\n",
    "* Lab Tutoring Hours: TBD - Vote tomorrow!"
   ]
  },
  {
   "cell_type": "markdown",
   "metadata": {
    "internals": {
     "frag_helper": "fragment_end",
     "frag_number": 5,
     "slide_type": "subslide"
    },
    "slideshow": {
     "slide_type": "slide"
    }
   },
   "source": [
    "\n",
    "> Linear algebra is a fantastic subject.  On the one hand it is clean and beautiful.  If you have three vectors in 12-dimensional space, you can almost see them. [...]\n",
    "> [And] It is _needed_ and _used_. [...] Linear algebra has become as basic and as applicable as calculus, and fortunately it is easier.\n",
    "\n",
    "_Linear Algebra,_ Gilbert Strang"
   ]
  },
  {
   "cell_type": "markdown",
   "metadata": {
    "internals": {
     "frag_helper": "fragment_end",
     "frag_number": 5,
     "slide_helper": "subslide_end"
    },
    "slide_helper": "slide_end",
    "slideshow": {
     "slide_type": "skip"
    }
   },
   "source": [
    "In this course we will study linear algebra.  Linear algebra is such a useful tool that it is crucially important to a number of areas in Computer Science.  If you study optimization, the starting point is linear algebra.  If you study computer graphics, the language you use every day is linear algebra.  If you study the performance of computer systems, you need linear algebra.  If you study algorithms -- especially graph algorithms -- you will absolutely need linear algebra.  If you study data mining, you will use linear algebra all the time.  And if you study quantum computing, the standard computations you use are in the language of linear algebra.\n",
    "\n",
    "The dominance of linear algebra arises because it is so fundamental, and in some ways, very simple.  It deals with objects that almost always can be interpreted geometrically.  So often we can use linear algebra in a very intuitive manner -- so much so that many times it is actually the best way to think about geometric problems.  But it is also rigorous and captures situations that sometimes we would overlook if we were proceeding purely intuitively.  This is because it is also about solving equations, and finding solutions to various kinds of problems.  So the advantage of being basic and fundamental is that it can be used and applied in so many ways."
   ]
  },
  {
   "cell_type": "markdown",
   "metadata": {
    "internals": {
     "frag_helper": "fragment_end",
     "frag_number": 5,
     "slide_type": "subslide"
    },
    "slideshow": {
     "slide_type": "slide"
    }
   },
   "source": [
    "## What we will study"
   ]
  },
  {
   "cell_type": "markdown",
   "metadata": {
    "internals": {
     "frag_helper": "fragment_end",
     "frag_number": 5,
     "slide_helper": "subslide_end"
    },
    "slide_helper": "slide_end",
    "slideshow": {
     "slide_type": "-"
    }
   },
   "source": [
    "1. Linear Equations\n",
    "2. Matrix Algebra\n",
    "3. Vector Spaces\n",
    "4. Eigensystems \n",
    "5. Orthogonality and Least Squares"
   ]
  },
  {
   "cell_type": "markdown",
   "metadata": {
    "internals": {
     "frag_helper": "fragment_end",
     "frag_number": 5,
     "slide_type": "subslide"
    },
    "slideshow": {
     "slide_type": "slide"
    }
   },
   "source": [
    "## Resources"
   ]
  },
  {
   "cell_type": "markdown",
   "metadata": {
    "internals": {
     "frag_helper": "fragment_end",
     "frag_number": 5,
     "slide_helper": "subslide_end"
    },
    "slide_helper": "slide_end",
    "slideshow": {
     "slide_type": "-"
    }
   },
   "source": [
    "* Text: _Linear Algebra and Its Applications_, by David C. Lay, 5th edition. (Required).\n",
    "    * Readings will be assigned for each class.\n",
    "    * Homeworks will be taken from the book.\n",
    "* Web Resources: All slides will be made available online.\n",
    "    * On the Piazza site.\n",
    "  \n",
    "    * Also PDF versions of slide material in handout form.\n",
    "* Piazza \n",
    "    * For online discussion\n",
    "    * https://piazza.com/bu/summer2015/cs132/home"
   ]
  },
  {
   "cell_type": "markdown",
   "metadata": {
    "internals": {
     "frag_helper": "fragment_end",
     "frag_number": 5,
     "slide_type": "subslide"
    },
    "slideshow": {
     "slide_type": "slide"
    }
   },
   "source": [
    "## How the course is structured"
   ]
  },
  {
   "cell_type": "markdown",
   "metadata": {
    "internals": {
     "frag_helper": "fragment_end",
     "frag_number": 5,
     "slide_helper": "subslide_end"
    },
    "slide_helper": "slide_end",
    "slideshow": {
     "slide_type": "-"
    }
   },
   "source": [
    "* 6 Week Intensive Summer Term. MTWR 10-12\n",
    "* Discussion section on Wednesday 9-10\n",
    "* Homework assigned on Mondays and Thursdays, due by next Mon/Thurs.\n",
    "* Note: Next week no class Monday, we DO have class Friday."
   ]
  },
  {
   "cell_type": "markdown",
   "metadata": {
    "internals": {
     "frag_helper": "fragment_end",
     "frag_number": 5,
     "slide_type": "subslide"
    },
    "slideshow": {
     "slide_type": "slide"
    }
   },
   "source": [
    "## Grading"
   ]
  },
  {
   "cell_type": "markdown",
   "metadata": {
    "internals": {
     "frag_helper": "fragment_end",
     "frag_number": 5,
     "slide_helper": "subslide_end"
    },
    "slide_helper": "slide_end",
    "slideshow": {
     "slide_type": "-"
    }
   },
   "source": [
    "Homeworks will be submitted via `websubmit`.  \n",
    "\n",
    "__NOTE: (IMPORTANT)__ Late homeworks will not be accepted.  However your final grade will be based on the top 9 homeworks submitted (out of 11).\n",
    "\n",
    "Final grades will be computed based on the following:\n",
    "* 50% Homework assignments. The top 9 homework grades (out of the 11 assigned) will be used to compute this score\n",
    "* 5% Attendance and In-class participation via clicker\n",
    "* 20% Quizzes (4 or 5)\n",
    "* 25% Final (Cumulative)"
   ]
  },
  {
   "cell_type": "markdown",
   "metadata": {
    "internals": {
     "frag_helper": "fragment_end",
     "frag_number": 5,
     "slide_type": "subslide"
    },
    "slideshow": {
     "slide_type": "slide"
    }
   },
   "source": [
    "\n",
    "##Academic Honesty"
   ]
  },
  {
   "cell_type": "markdown",
   "metadata": {
    "internals": {
     "frag_helper": "fragment_end",
     "frag_number": 5
    },
    "slideshow": {
     "slide_type": "-"
    }
   },
   "source": [
    "You may discuss homework assignments with classmates, but you are \n",
    "solely responsible for what you turn in. Collaboration in the form of\n",
    "discussion is allowed, but all forms of cheating (copying parts of a\n",
    "classmate's assignment, plagiarism from books or old posted solutions)\n",
    "are NOT allowed.\n",
    "\n",
    "I have brought students before the Academic Conduct Committee in the past.  It's not pleasant.   Students have been suspended or have voluntarily left in the past.  Let's not do that."
   ]
  },
  {
   "cell_type": "code",
   "execution_count": null,
   "metadata": {
    "collapsed": false,
    "internals": {
     "frag_helper": "fragment_end",
     "frag_number": 5,
     "slide_helper": "subslide_end"
    },
    "slide_helper": "slide_end",
    "slideshow": {
     "slide_type": "skip"
    }
   },
   "outputs": [],
   "source": []
  }
 ],
 "metadata": {
  "celltoolbar": "Slideshow",
  "kernelspec": {
   "display_name": "Python 2",
   "language": "python",
   "name": "python2"
  },
  "language_info": {
   "codemirror_mode": {
    "name": "ipython",
    "version": 2
   },
   "file_extension": ".py",
   "mimetype": "text/x-python",
   "name": "python",
   "nbconvert_exporter": "python",
   "pygments_lexer": "ipython2",
   "version": "2.7.6"
  }
 },
 "nbformat": 4,
 "nbformat_minor": 0
}
